{
 "cells": [
  {
   "cell_type": "markdown",
   "metadata": {},
   "source": [
    "# Hotel Customer Satisfaction - Data Creation\n",
    "\n",
    "Generate data for customer experiences in an example hotel. The generated data consisits of:\n",
    "\n",
    "- XXXX\n",
    "- xxxx\n",
    "\n",
    "The initial data was taken from an example of customer feedback fr a real hotel on Booking.Com\n",
    "\n",
    "- https://www.kaggle.com/datasets/michelhatab/hotel-reviews-bookingcom/code\n",
    "- ????? manipulated, additional dat applied"
   ]
  },
  {
   "cell_type": "code",
   "execution_count": 11,
   "metadata": {},
   "outputs": [],
   "source": [
    "# Libraries\n",
    "#\n",
    "\n",
    "import numpy as np\n",
    "import pandas as pd\n",
    "\n",
    "import matplotlib.pyplot as plt\n",
    "plt.style.use('ggplot')  \n"
   ]
  },
  {
   "cell_type": "code",
   "execution_count": 12,
   "metadata": {},
   "outputs": [],
   "source": [
    "# Establish valid data file path, for reading and saving eg CSV files\n",
    "#\n",
    "\n",
    "import os\n",
    "data_directory = 'Data_Sources'          # Designated data folder above the current working directory\n",
    "project_directory = os.path.dirname(os.getcwd())\n",
    "DATA_PATH = os.path.join(project_directory, data_directory)\n",
    "if not os.path.isdir(DATA_PATH):\n",
    "    raise Exception(f'Directory not found: {DATA_PATH}')\n",
    "\n",
    "# Tidy Up\n",
    "del data_directory, project_directory"
   ]
  },
  {
   "cell_type": "code",
   "execution_count": 35,
   "metadata": {},
   "outputs": [],
   "source": [
    "# A simple utility function to obtain and summarise key elements of a given dataframe\n",
    "\n",
    "def print_file_summary(data_frame):\n",
    "    # Create a temporary df and ensure no lists remain, so that unique items can be identified for uniqueness\n",
    "    temp_df = data_frame.copy()\n",
    "    temp_df = temp_df.map(lambda cell: str(cell) if isinstance(cell, list) else cell)\n",
    "    \n",
    "    # Calculate Data Types \n",
    "    summary_of_df = pd.DataFrame({'Count': data_frame.count(),\n",
    "                                 'Missing': data_frame.isnull().sum(), 'Empty': 0,\n",
    "                                 'Unique': temp_df.nunique(),\n",
    "                                 'Type': data_frame.dtypes, \n",
    "                                 'String': 0, 'Int': 0, 'Float': 0, 'List': 0\n",
    "                                 })\n",
    "    summary_of_df['Empty'] = (data_frame == '').sum()\n",
    "    summary_of_df['String'] = data_frame.map(lambda cell: isinstance(cell, str)).sum()\n",
    "    summary_of_df['Int'] = data_frame.map(lambda cell: isinstance(cell, int)).sum()\n",
    "    summary_of_df['Float'] = data_frame.map(lambda cell: isinstance(cell, float)).sum()\n",
    "    summary_of_df['List'] = data_frame.map(lambda cell: isinstance(cell, list)).sum()\n",
    "\n",
    "    display(summary_of_df)\n"
   ]
  },
  {
   "cell_type": "markdown",
   "metadata": {},
   "source": [
    "## Source Data Load and Check\n"
   ]
  },
  {
   "cell_type": "code",
   "execution_count": 54,
   "metadata": {},
   "outputs": [],
   "source": [
    "# Load Source CSV\n",
    "file_name = 'hotel_reviews.csv'\n",
    "file_path = os.path.join(DATA_PATH, file_name)\n",
    "if not os.path.isfile(file_path):\n",
    "    raise Exception(f'File not found: {file_path}')\n",
    "\n",
    "hotel_reviews_df = pd.read_csv(file_path)\n",
    "\n",
    "# Data Cleaning\n",
    "hotel_reviews_df['Score'] = hotel_reviews_df['Score'].astype(int) \n",
    "hotel_reviews_df['Score'] = hotel_reviews_df['Score'] - 1       # Change range from 1:10 to 0:9 for the classifier\n",
    "\n",
    "\n",
    "# Tidy Up\n",
    "del file_name, file_path"
   ]
  },
  {
   "cell_type": "code",
   "execution_count": null,
   "metadata": {},
   "outputs": [],
   "source": [
    "#| label: csv_file_summary\n",
    "\n",
    "print(hotel_reviews_df.head(3))\n",
    "display(hotel_reviews_df.head(3))\n"
   ]
  },
  {
   "cell_type": "code",
   "execution_count": null,
   "metadata": {},
   "outputs": [],
   "source": [
    "#| label: csv_file_types\n",
    "\n",
    "print_file_summary(hotel_reviews_df)\n",
    "\n"
   ]
  },
  {
   "cell_type": "markdown",
   "metadata": {},
   "source": [
    "Invalid columns:\n",
    "Title: object, PositiveReview: object, NegativeReview: object, GuestName: object, GuestCountry: object, RoomType: object, \n",
    "NumberOfNights: object, VisitDate: object, GroupType: object, PropertyResponse: object"
   ]
  },
  {
   "cell_type": "code",
   "execution_count": null,
   "metadata": {},
   "outputs": [],
   "source": [
    "#| label: csv_file_statistics\n",
    "\n",
    "print(hotel_reviews_df.describe())"
   ]
  },
  {
   "cell_type": "markdown",
   "metadata": {},
   "source": []
  },
  {
   "cell_type": "markdown",
   "metadata": {},
   "source": [
    "## Analysis ...."
   ]
  },
  {
   "cell_type": "code",
   "execution_count": null,
   "metadata": {},
   "outputs": [],
   "source": []
  },
  {
   "cell_type": "code",
   "execution_count": null,
   "metadata": {},
   "outputs": [],
   "source": [
    "# XGBoost Model Training\n",
    "\n",
    "import xgboost as xgb\n",
    "from sklearn.model_selection import train_test_split\n",
    "\n",
    "# Split the data into features and target y which is the customer satisfaction score\n",
    "X = hotel_reviews_df.drop(columns=['Score'])\n",
    "Y = hotel_reviews_df['Score']\n",
    "\n",
    "# Split the data randomly with 20% for testing\n",
    "X_train, X_test, Y_train, Y_test = train_test_split(X, Y, test_size=0.2, random_state=42)\n",
    "\n",
    "# Train the model & fit to the data\n",
    "model = xgb.XGBClassifier()\n",
    "model.fit(X_train, Y_train)\n"
   ]
  },
  {
   "cell_type": "code",
   "execution_count": null,
   "metadata": {},
   "outputs": [],
   "source": [
    "# Model Predictions & Feature Importance\n",
    "\n"
   ]
  },
  {
   "cell_type": "code",
   "execution_count": null,
   "metadata": {},
   "outputs": [],
   "source": [
    "# Feature Importance\n",
    "\n",
    "from sklearn.metrics import accuracy_score, confusion_matrix, classification_report\n",
    "import matplotlib.pyplot as plt\n",
    "import seaborn as sns\n",
    "\n",
    "# Predictions\n",
    "y_pred = model.predict(X_test)\n",
    "\n",
    "\n",
    "# Accuracy\n",
    "accuracy = accuracy_score(y_test, y_pred)\n",
    "print(\"Accuracy:\", accuracy)\n",
    "\n",
    "# Confusion Matrix\n",
    "conf_matrix = confusion_matrix(y_test, y_pred)\n",
    "sns.heatmap(conf_matrix, annot=True, fmt='g')\n",
    "plt.xlabel('Predicted')\n",
    "plt.ylabel('True')\n",
    "plt.show()\n",
    "\n",
    "# Classification Report\n",
    "print(classification_report(y_test, y_pred))\n",
    "\n",
    "\n",
    "xgb.plot_importance(model)\n",
    "plt.rcParams['figure.figsize'] = [12, 9]\n",
    "plt.show()"
   ]
  }
 ],
 "metadata": {
  "kernelspec": {
   "display_name": "base",
   "language": "python",
   "name": "python3"
  },
  "language_info": {
   "codemirror_mode": {
    "name": "ipython",
    "version": 3
   },
   "file_extension": ".py",
   "mimetype": "text/x-python",
   "name": "python",
   "nbconvert_exporter": "python",
   "pygments_lexer": "ipython3",
   "version": "3.12.8"
  }
 },
 "nbformat": 4,
 "nbformat_minor": 2
}
