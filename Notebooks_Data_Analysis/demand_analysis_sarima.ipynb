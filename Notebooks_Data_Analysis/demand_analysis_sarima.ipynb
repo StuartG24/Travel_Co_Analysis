{
 "cells": [
  {
   "cell_type": "markdown",
   "metadata": {},
   "source": [
    "## SARIMA\n"
   ]
  },
  {
   "cell_type": "code",
   "execution_count": 3,
   "metadata": {},
   "outputs": [],
   "source": [
    "# Libraries\n",
    "#\n",
    "\n",
    "import numpy as np\n",
    "import pandas as pd"
   ]
  },
  {
   "cell_type": "code",
   "execution_count": 1,
   "metadata": {},
   "outputs": [],
   "source": [
    "# Establish valid data file path, for reading and saving eg CSV files\n",
    "#\n",
    "\n",
    "import os\n",
    "data_directory = 'Data_Sources'          # Designated data folder above the current working directory\n",
    "project_directory = os.path.dirname(os.getcwd())\n",
    "DATA_PATH = os.path.join(project_directory, data_directory)\n",
    "if not os.path.isdir(DATA_PATH):\n",
    "    raise Exception(f'Directory not found: {DATA_PATH}')\n",
    "\n",
    "del data_directory, project_directory"
   ]
  },
  {
   "cell_type": "code",
   "execution_count": 4,
   "metadata": {},
   "outputs": [],
   "source": [
    "# Load the time series CSV\n",
    "\n",
    "# Load the states .csv file, exit if do not exist or are invalid\n",
    "file_name = 'hotel_timeseries.csv'\n",
    "file_path = os.path.join(DATA_PATH, file_name)\n",
    "if not os.path.isfile(file_path):\n",
    "    raise Exception(f'File not found: {file_path}')\n",
    "hotel_time_series_df = pd.read_csv(file_path, parse_dates=['Date'])\n",
    "hotel_time_series_df.set_index('Date', inplace=True)\n",
    "\n",
    "# Tidy Up\n",
    "del file_name, file_path"
   ]
  }
 ],
 "metadata": {
  "kernelspec": {
   "display_name": "base",
   "language": "python",
   "name": "python3"
  },
  "language_info": {
   "codemirror_mode": {
    "name": "ipython",
    "version": 3
   },
   "file_extension": ".py",
   "mimetype": "text/x-python",
   "name": "python",
   "nbconvert_exporter": "python",
   "pygments_lexer": "ipython3",
   "version": "3.12.4"
  }
 },
 "nbformat": 4,
 "nbformat_minor": 2
}
